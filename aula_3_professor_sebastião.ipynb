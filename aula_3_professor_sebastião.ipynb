{
  "nbformat": 4,
  "nbformat_minor": 0,
  "metadata": {
    "colab": {
      "provenance": [],
      "authorship_tag": "ABX9TyPeNzlLBX1ofZxkMxf4QKFE",
      "include_colab_link": true
    },
    "kernelspec": {
      "name": "python3",
      "display_name": "Python 3"
    },
    "language_info": {
      "name": "python"
    }
  },
  "cells": [
    {
      "cell_type": "markdown",
      "metadata": {
        "id": "view-in-github",
        "colab_type": "text"
      },
      "source": [
        "<a href=\"https://colab.research.google.com/github/LucasGsfeitoza-03/LucasGsfeitoza-03/blob/main/aula_3_professor_sebasti%C3%A3o.ipynb\" target=\"_parent\"><img src=\"https://colab.research.google.com/assets/colab-badge.svg\" alt=\"Open In Colab\"/></a>"
      ]
    },
    {
      "cell_type": "markdown",
      "source": [
        "exemplo usando input"
      ],
      "metadata": {
        "id": "AB4DiG3Iedp6"
      }
    },
    {
      "cell_type": "code",
      "execution_count": 2,
      "metadata": {
        "colab": {
          "base_uri": "https://localhost:8080/"
        },
        "id": "JNQMyGdPdvaT",
        "outputId": "1f344181-00e0-40ba-9035-e6f8c4c66fe8"
      },
      "outputs": [
        {
          "output_type": "stream",
          "name": "stdout",
          "text": [
            "entre com o seu nome Lucas\n",
            "Lucas\n"
          ]
        }
      ],
      "source": [
        "nome=input(\"entre com o seu nome \")\n",
        "print (nome)"
      ]
    },
    {
      "cell_type": "markdown",
      "source": [
        "exemplo dois"
      ],
      "metadata": {
        "id": "me1mI2yjaDVy"
      }
    },
    {
      "cell_type": "code",
      "source": [
        "número1=int(input(\"digite o primeiro número \"))\n",
        "número2=int(input(\"digite o segundo número \"))\n",
        "soma=número1+número2\n",
        "subtração=número1-número2\n",
        "multiplicação=número1*número2\n",
        "divisão=número1/número2\n",
        "print (soma)\n",
        "print (subtração)\n",
        "print (multiplicação)\n",
        "print (divisão)"
      ],
      "metadata": {
        "colab": {
          "base_uri": "https://localhost:8080/"
        },
        "id": "kZufsCqtaH0D",
        "outputId": "2f132124-58b5-4b85-85d0-e7224e3734f7"
      },
      "execution_count": 3,
      "outputs": [
        {
          "output_type": "stream",
          "name": "stdout",
          "text": [
            "digite o primeiro numero 12\n",
            "digite o segundo numero 22\n",
            "34\n",
            "-10\n",
            "264\n",
            "0.5454545454545454\n"
          ]
        }
      ]
    },
    {
      "cell_type": "markdown",
      "source": [
        "estrutura if - elif- else"
      ],
      "metadata": {
        "id": "2IXO_WJ6t0XW"
      }
    },
    {
      "cell_type": "code",
      "source": [
        "idade = int (input('digite sua idade: '))\n",
        "if idade >= 10 and idade < 29:\n",
        "    print('você é jovem')\n",
        "elif idade >= 30 and idade < 49:\n",
        "    print('você é adulto')\n",
        "elif idade >= 50 and idade <= 100:\n",
        "    print('você é idoso')\n",
        "else:\n",
        "    print('digite uma idade válida saúdades do tempo de boy né usuario ?')"
      ],
      "metadata": {
        "colab": {
          "base_uri": "https://localhost:8080/"
        },
        "id": "3WztjJVjt-Gc",
        "outputId": "44017f4c-5233-444f-a49a-44e3411372f1"
      },
      "execution_count": 48,
      "outputs": [
        {
          "output_type": "stream",
          "name": "stdout",
          "text": [
            "digite sua idade: 101\n",
            "digite uma idade válida saúdades do tempo de boy né usuario ?\n"
          ]
        }
      ]
    },
    {
      "cell_type": "markdown",
      "source": [
        "exercício um"
      ],
      "metadata": {
        "id": "nUJ9rYArxI_L"
      }
    },
    {
      "cell_type": "code",
      "source": [
        "numero1=int(input(\"digite o primeiro número \"))\n",
        "numero2=int(input(\"digite o segundo número \"))\n",
        "print(\"qual dos dois números é maior\")\n",
        "if número1>número2:\n",
        "  print(\"o primeiro número é maior\",numero1)\n",
        "elif número2>número1:\n",
        "  print(\"o segundo número é maior\",número2)\n"
      ],
      "metadata": {
        "colab": {
          "base_uri": "https://localhost:8080/"
        },
        "id": "RL63tWD8xFYz",
        "outputId": "058e7b95-935e-48c1-b401-36dfc157bf40"
      },
      "execution_count": 59,
      "outputs": [
        {
          "output_type": "stream",
          "name": "stdout",
          "text": [
            "digite o primeiro número 12\n",
            "digite o segundo número 22\n",
            "qual dos dois números é maior\n",
            "o segundo número é maior 22\n"
          ]
        }
      ]
    },
    {
      "cell_type": "markdown",
      "source": [
        "exercicío dois"
      ],
      "metadata": {
        "id": "bpw0iLUI1lVA"
      }
    },
    {
      "cell_type": "code",
      "source": [
        "valor1=int(input(\"digite o valor: \"))\n",
        "if valor1 > 0:\n",
        "  print(\"o valor digitado é positivo\")\n",
        "elif valor1 < 0:\n",
        "  print(\"o valor digitado é negativo\")\n",
        "else:\n",
        "  print(\"o valor digitado é neutro\")"
      ],
      "metadata": {
        "colab": {
          "base_uri": "https://localhost:8080/"
        },
        "id": "xudxk4Zc1rsa",
        "outputId": "9e33849a-77dc-4a9e-97dc-784f198d5999"
      },
      "execution_count": 79,
      "outputs": [
        {
          "output_type": "stream",
          "name": "stdout",
          "text": [
            "digite o valor: 0\n",
            "o valor digitado é neutro\n"
          ]
        }
      ]
    }
  ]
}