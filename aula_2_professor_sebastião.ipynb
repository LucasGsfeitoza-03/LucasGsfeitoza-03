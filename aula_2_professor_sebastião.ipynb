{
  "nbformat": 4,
  "nbformat_minor": 0,
  "metadata": {
    "colab": {
      "provenance": [],
      "authorship_tag": "ABX9TyNlQpDPwMWwyUkDZ1vqqvcq",
      "include_colab_link": true
    },
    "kernelspec": {
      "name": "python3",
      "display_name": "Python 3"
    },
    "language_info": {
      "name": "python"
    }
  },
  "cells": [
    {
      "cell_type": "markdown",
      "metadata": {
        "id": "view-in-github",
        "colab_type": "text"
      },
      "source": [
        "<a href=\"https://colab.research.google.com/github/LucasGsfeitoza-03/LucasGsfeitoza-03/blob/main/aula_2_professor_sebasti%C3%A3o.ipynb\" target=\"_parent\"><img src=\"https://colab.research.google.com/assets/colab-badge.svg\" alt=\"Open In Colab\"/></a>"
      ]
    },
    {
      "cell_type": "markdown",
      "source": [
        "exemplo 1 usando input entrada de dados"
      ],
      "metadata": {
        "id": "Z_rzV8x4dHoJ"
      }
    },
    {
      "cell_type": "code",
      "source": [
        "nome=input(\"digite seu nome\")\n",
        "print (nome)"
      ],
      "metadata": {
        "colab": {
          "base_uri": "https://localhost:8080/"
        },
        "id": "w4Tr9NCddXFg",
        "outputId": "4f100292-e8fb-4903-a28c-49c7d812a729"
      },
      "execution_count": 1,
      "outputs": [
        {
          "output_type": "stream",
          "name": "stdout",
          "text": [
            "digite seu nomelucas\n",
            "lucas\n"
          ]
        }
      ]
    },
    {
      "cell_type": "markdown",
      "source": [
        "exemplo 2 para informar idade"
      ],
      "metadata": {
        "id": "E0fumH_HezeU"
      }
    },
    {
      "cell_type": "code",
      "source": [
        "idade=input(\"por favor digite sua idade amado úsuario\" )\n",
        "print (idade)"
      ],
      "metadata": {
        "colab": {
          "base_uri": "https://localhost:8080/"
        },
        "id": "xO-jVhBje6lE",
        "outputId": "ee3561f9-8869-49e2-92a4-935d98c822ae"
      },
      "execution_count": 2,
      "outputs": [
        {
          "output_type": "stream",
          "name": "stdout",
          "text": [
            "por favor digite sua idade amado úsuario20\n",
            "20\n"
          ]
        }
      ]
    },
    {
      "cell_type": "code",
      "source": [
        "print(\"meu amigo Vitor é foda\")"
      ],
      "metadata": {
        "colab": {
          "base_uri": "https://localhost:8080/"
        },
        "id": "dWRYnopUfiMS",
        "outputId": "42807837-59d4-4f38-d6ef-c87f3d0959bc"
      },
      "execution_count": 3,
      "outputs": [
        {
          "output_type": "stream",
          "name": "stdout",
          "text": [
            "meu amigo Vitor é foda\n"
          ]
        }
      ]
    },
    {
      "cell_type": "markdown",
      "source": [
        "atividade 1"
      ],
      "metadata": {
        "id": "fiPaiO68gBOs"
      }
    },
    {
      "cell_type": "code",
      "source": [
        " A = \"eu amo programar em\"\n",
        " B = \" python \"\n",
        " C = A + B\n",
        " print(C)\n"
      ],
      "metadata": {
        "colab": {
          "base_uri": "https://localhost:8080/"
        },
        "id": "hF8o7cMTg7AT",
        "outputId": "edb2f257-6d9b-4a5c-c1c3-c6477ac6d82f"
      },
      "execution_count": 4,
      "outputs": [
        {
          "output_type": "stream",
          "name": "stdout",
          "text": [
            "eu amo programar em python \n"
          ]
        }
      ]
    },
    {
      "cell_type": "markdown",
      "source": [
        "exemplo len"
      ],
      "metadata": {
        "id": "kGCA4FEGity7"
      }
    },
    {
      "cell_type": "code",
      "source": [
        "teste = \"apostila de python\"\n",
        "len(teste)"
      ],
      "metadata": {
        "colab": {
          "base_uri": "https://localhost:8080/"
        },
        "id": "cSurZ3Fhis9c",
        "outputId": "5178abe2-b346-42dd-932d-a27d682382c9"
      },
      "execution_count": 5,
      "outputs": [
        {
          "output_type": "execute_result",
          "data": {
            "text/plain": [
              "18"
            ]
          },
          "metadata": {},
          "execution_count": 5
        }
      ]
    },
    {
      "cell_type": "markdown",
      "source": [
        "capitalize"
      ],
      "metadata": {
        "id": "_rm9MDpAjLrb"
      }
    },
    {
      "cell_type": "code",
      "source": [
        "a= \"python\"\n",
        "a.capitalize()"
      ],
      "metadata": {
        "colab": {
          "base_uri": "https://localhost:8080/",
          "height": 35
        },
        "id": "ZdhPQMM3jV1O",
        "outputId": "816f4504-889e-4fd0-f271-2222e467ca33"
      },
      "execution_count": 6,
      "outputs": [
        {
          "output_type": "execute_result",
          "data": {
            "text/plain": [
              "'Python'"
            ],
            "application/vnd.google.colaboratory.intrinsic+json": {
              "type": "string"
            }
          },
          "metadata": {},
          "execution_count": 6
        }
      ]
    },
    {
      "cell_type": "markdown",
      "source": [
        "count"
      ],
      "metadata": {
        "id": "Wad9On5wjbxj"
      }
    },
    {
      "cell_type": "code",
      "source": [
        "b = \"linguagem Python\"\n",
        "b.count(\"n\")"
      ],
      "metadata": {
        "colab": {
          "base_uri": "https://localhost:8080/"
        },
        "id": "axpup81yjgjd",
        "outputId": "32c94a77-b73c-4ff9-c25b-c50b58404cf0"
      },
      "execution_count": 7,
      "outputs": [
        {
          "output_type": "execute_result",
          "data": {
            "text/plain": [
              "2"
            ]
          },
          "metadata": {},
          "execution_count": 7
        }
      ]
    },
    {
      "cell_type": "markdown",
      "source": [
        "startswitch"
      ],
      "metadata": {
        "id": "5f2_bPX4jtIP"
      }
    },
    {
      "cell_type": "code",
      "source": [
        "c=\"python\"\n",
        "c.startswith(\"py\")"
      ],
      "metadata": {
        "colab": {
          "base_uri": "https://localhost:8080/"
        },
        "id": "42sm5OQKjwvH",
        "outputId": "d652faa7-84f0-464c-b644-15b5625bdacb"
      },
      "execution_count": 8,
      "outputs": [
        {
          "output_type": "execute_result",
          "data": {
            "text/plain": [
              "True"
            ]
          },
          "metadata": {},
          "execution_count": 8
        }
      ]
    },
    {
      "cell_type": "markdown",
      "source": [
        "usuário inseri dois numero e pede o resultado da divisão"
      ],
      "metadata": {
        "id": "wgSVrZcEmJBg"
      }
    },
    {
      "cell_type": "code",
      "source": [
        "print(\"usuário insira dois números:\")\n",
        "num1=int(input(\"digite o primeiro número\"))\n",
        "num2=int(input(\"digite o segundo número\"))\n",
        "resultado_divisão = num1/num2\n",
        "print(resultado_divisão)"
      ],
      "metadata": {
        "colab": {
          "base_uri": "https://localhost:8080/"
        },
        "id": "nWGHBf9Ymgjc",
        "outputId": "5df5562a-6f68-4f8b-9144-c844b79f37f4"
      },
      "execution_count": 9,
      "outputs": [
        {
          "output_type": "stream",
          "name": "stdout",
          "text": [
            "usuário insira dois números:\n",
            "digite o primeiro número12\n",
            "digite o segundo número22\n",
            "0.5454545454545454\n"
          ]
        }
      ]
    },
    {
      "cell_type": "markdown",
      "source": [
        "código da base da altura de um retangulo"
      ],
      "metadata": {
        "id": "RTiScbzGnucO"
      }
    },
    {
      "cell_type": "code",
      "source": [
        "largura_rentâgulo=float(input(\"digite a largura do retangulo\"))\n",
        "altura_rentângulo=float(input(\"digite a altura do retangulo\"))\n",
        "area=largura_rentâgulo*altura_rentângulo\n",
        "print(area)"
      ],
      "metadata": {
        "colab": {
          "base_uri": "https://localhost:8080/"
        },
        "id": "LgQIB6htn5bs",
        "outputId": "48fdb247-c8f5-414e-e7fc-5373c7b8dfd7"
      },
      "execution_count": 10,
      "outputs": [
        {
          "output_type": "stream",
          "name": "stdout",
          "text": [
            "digite a largura do retangulo12\n",
            "digite a altura do retangulo22\n",
            "264.0\n"
          ]
        }
      ]
    },
    {
      "cell_type": "markdown",
      "source": [
        "soma entre dois números"
      ],
      "metadata": {
        "id": "8DO-xiqLodny"
      }
    },
    {
      "cell_type": "code",
      "source": [
        "num1 = 31\n",
        "num2 = 3\n",
        "soma = num1 + num2\n",
        "print(soma)"
      ],
      "metadata": {
        "colab": {
          "base_uri": "https://localhost:8080/"
        },
        "id": "2ZNjg20Poa4y",
        "outputId": "526414a1-7ba1-4a30-901c-4b74b380a5b6"
      },
      "execution_count": null,
      "outputs": [
        {
          "output_type": "stream",
          "name": "stdout",
          "text": [
            "34\n"
          ]
        }
      ]
    },
    {
      "cell_type": "markdown",
      "source": [
        "exemplo dicionário"
      ],
      "metadata": {
        "id": "Z5s03-SVpF1U"
      }
    },
    {
      "cell_type": "code",
      "source": [
        "dic_1 = {\"nome\":\"Lucas Gabriel\",\"sobrinome\":\"Da Silva Feitoza \"}\n",
        "dic_1[\"idade\"] = \"20\"\n",
        "print(dic_1)\n",
        "dic_2 = {\"vitor\":1, \"Maria\":2, \"Clara\":3, \"Matheus\":4}\n",
        "print(dic_1[\"nome\"])\n",
        "print(dic_2 [\"vitor\"])\n",
        "print(dic_1.keys()) # Call the keys() method on dic_1\n",
        "print(dic_1.values()) # Call the values() method on dic_1\n",
        "print(dic_1.items()) # Call the items() method on dic_1\n",
        "print(dic_2.items()) # Call the items() method on dic_2\n",
        "print(dic_2.keys()) # Call the keys() method on dic_2\n",
        "print(dic_2.values()) # Call the values() method on dic_2"
      ],
      "metadata": {
        "colab": {
          "base_uri": "https://localhost:8080/"
        },
        "id": "33fYjOn_pJaE",
        "outputId": "adf0b313-0fe1-4457-a1e5-17b14f86c76a"
      },
      "execution_count": null,
      "outputs": [
        {
          "output_type": "stream",
          "name": "stdout",
          "text": [
            "{'nome': 'Lucas Gabriel', 'sobrinome': 'Da Silva Feitoza ', 'idade': '20'}\n",
            "Lucas Gabriel\n",
            "1\n",
            "dict_keys(['nome', 'sobrinome', 'idade'])\n",
            "dict_values(['Lucas Gabriel', 'Da Silva Feitoza ', '20'])\n",
            "dict_items([('nome', 'Lucas Gabriel'), ('sobrinome', 'Da Silva Feitoza '), ('idade', '20')])\n",
            "dict_items([('vitor', 1), ('Maria', 2), ('Clara', 3), ('Matheus', 4)])\n",
            "dict_keys(['vitor', 'Maria', 'Clara', 'Matheus'])\n",
            "dict_values([1, 2, 3, 4])\n"
          ]
        }
      ]
    },
    {
      "cell_type": "markdown",
      "source": [
        "exercicio dicionário letra A\n",
        "\n"
      ],
      "metadata": {
        "id": "eKTTjzrtv4wI"
      }
    },
    {
      "cell_type": "code",
      "source": [
        "dic_1 = {\"nome\":\"Lucas Gabriel\",\"último nome\":\"Da Silva Feitoza \" ,\"idade\":\"20\",\"curso\":\"ciências da computacão\",\"endereço\":\"Rua Benjamin Larena\"}\n",
        "print(dic_1)\n"
      ],
      "metadata": {
        "colab": {
          "base_uri": "https://localhost:8080/"
        },
        "id": "qdWqCBVdv4Bi",
        "outputId": "da2175ad-a233-4f07-d1a3-d1bcb38d9bd3"
      },
      "execution_count": 12,
      "outputs": [
        {
          "output_type": "stream",
          "name": "stdout",
          "text": [
            "{'nome': 'Lucas Gabriel', 'último nome': 'Da Silva Feitoza ', 'idade': '20', 'curso': 'ciências da computacão', 'endereço': 'Rua Benjamin Larena'}\n"
          ]
        }
      ]
    },
    {
      "cell_type": "markdown",
      "source": [
        "\n",
        "\n",
        "\n",
        "\n",
        "exercicio  dicionário letra B\n",
        "\n"
      ],
      "metadata": {
        "id": "xiJB8VQx3dSX"
      }
    },
    {
      "cell_type": "code",
      "source": [
        "dic_1 = {}\n",
        "dic_1[\"nome\"] = \"Lucas\"\n",
        "print(dic_1)\n",
        "dic_2 = {}\n",
        "dic_2[\"último nome\"] = \"Feitoza\"\n",
        "print(dic_2)\n",
        "dic_3 = {}\n",
        "dic_3[\"idade\"] = \"20\"\n",
        "print(dic_3)\n",
        "dic_4 = {}\n",
        "dic_4[\"curso\"] = \"ciências da computacão\"\n",
        "print(dic_4)\n",
        "dic_5 = {}\n",
        "dic_5[\"endereço\"]= \"Rua Benjamin Larena \"\n",
        "print(dic_5)"
      ],
      "metadata": {
        "colab": {
          "base_uri": "https://localhost:8080/"
        },
        "id": "JmJipCS93cnJ",
        "outputId": "e5833e77-29a7-4e98-ea7d-386f6c710204"
      },
      "execution_count": 13,
      "outputs": [
        {
          "output_type": "stream",
          "name": "stdout",
          "text": [
            "{'nome': 'Lucas'}\n",
            "{'último nome': 'Feitoza'}\n",
            "{'idade': '20'}\n",
            "{'curso': 'ciências da computacão'}\n",
            "{'endereço': 'Rua Benjamin Larena '}\n"
          ]
        }
      ]
    },
    {
      "cell_type": "markdown",
      "source": [
        "exercicio  dicionário letra C\n",
        "\n"
      ],
      "metadata": {
        "id": "CmrphKN3XW8g"
      }
    },
    {
      "cell_type": "code",
      "source": [
        "dic_1 = {}\n",
        "dic_1[\"nome\"] = \"Lucas\"\n",
        "print(dic_1)\n",
        "dic_2 = {}\n",
        "dic_2[\"último nome\"] = \"Feitoza\"\n",
        "print(dic_2)\n",
        "dic_3 = {}\n",
        "dic_3[\"idade\"] = \"20\"\n",
        "print(dic_3)\n",
        "dic_4[\"endereço\"]= \"Rua Benjamin Larena \"\n",
        "print(dic_5)"
      ],
      "metadata": {
        "colab": {
          "base_uri": "https://localhost:8080/"
        },
        "id": "DzHhF2ceXbYR",
        "outputId": "79cccdc5-b0f8-4747-80d5-3609b4ed2b0e"
      },
      "execution_count": 14,
      "outputs": [
        {
          "output_type": "stream",
          "name": "stdout",
          "text": [
            "{'nome': 'Lucas'}\n",
            "{'último nome': 'Feitoza'}\n",
            "{'idade': '20'}\n",
            "{'endereço': 'Rua Benjamin Larena '}\n"
          ]
        }
      ]
    },
    {
      "cell_type": "markdown",
      "source": [
        "exercicio  dicionário letra D"
      ],
      "metadata": {
        "id": "euxegGAYYWZj"
      }
    },
    {
      "cell_type": "code",
      "source": [
        "dic_1 = {}\n",
        "dic_1[\"nome\"] = \"Lucas\"\n",
        "print(dic_1)\n",
        "dic_2 = {}\n",
        "dic_2[\"último nome\"] = \"Lopes\"\n",
        "print(dic_2)\n",
        "dic_3 = {}\n",
        "dic_3[\"idade\"] = \"20\"\n",
        "print(dic_3)\n",
        "dic_4 = {}\n",
        "dic_4[\"curso\"] = \"ciências da computacão\"\n",
        "print(dic_4)\n",
        "dic_5[\"endereço\"]= \"Rua Benjamin Larena \"\n",
        "print(dic_5)"
      ],
      "metadata": {
        "colab": {
          "base_uri": "https://localhost:8080/"
        },
        "id": "EiPjxFQlYVof",
        "outputId": "29e5e669-9560-4e80-de52-153340ed4c99"
      },
      "execution_count": 17,
      "outputs": [
        {
          "output_type": "stream",
          "name": "stdout",
          "text": [
            "{'nome': 'Lucas'}\n",
            "{'último nome': 'Lopes'}\n",
            "{'idade': '20'}\n",
            "{'curso': 'ciências da computacão'}\n",
            "{'endereço': 'Rua Benjamin Larena '}\n"
          ]
        }
      ]
    },
    {
      "cell_type": "markdown",
      "source": [
        "exercicio  dicionário letra E"
      ],
      "metadata": {
        "id": "XhtBDr1uZI-k"
      }
    },
    {
      "cell_type": "code",
      "source": [
        "dic_1 = {\"nome\":\"Lucas Gabriel\",\"último nome\":\"Da Silva Feitoza \" ,\"idade\":\"20\",\"curso\":\"ciências da computacão\",\"endereço\":\"Rua Benjamin Larena\"}\n",
        "print(dic_1)\n"
      ],
      "metadata": {
        "colab": {
          "base_uri": "https://localhost:8080/"
        },
        "id": "vTEJaUK3aKxu",
        "outputId": "cb5439bc-6255-4937-91d5-cbf40098bef6"
      },
      "execution_count": 16,
      "outputs": [
        {
          "output_type": "stream",
          "name": "stdout",
          "text": [
            "{'nome': 'Lucas Gabriel', 'último nome': 'Da Silva Feitoza ', 'idade': '20', 'curso': 'ciências da computacão', 'endereço': 'Rua Benjamin Larena'}\n"
          ]
        }
      ]
    },
    {
      "cell_type": "markdown",
      "source": [
        "exercicio dicionário letra F"
      ],
      "metadata": {
        "id": "q_5l1VYrabii"
      }
    },
    {
      "cell_type": "code",
      "source": [
        "dic_5[\"endereço\"]= \"Rua Benjamin Larena \"\n",
        "print(dic_5)"
      ],
      "metadata": {
        "colab": {
          "base_uri": "https://localhost:8080/"
        },
        "id": "4H7PqJfFamdr",
        "outputId": "09fd85f5-4415-45e8-88ed-0d7ac5c258be"
      },
      "execution_count": 18,
      "outputs": [
        {
          "output_type": "stream",
          "name": "stdout",
          "text": [
            "{'endereço': 'Rua Benjamin Larena '}\n"
          ]
        }
      ]
    },
    {
      "cell_type": "markdown",
      "source": [
        "exercicio dicionário letra G"
      ],
      "metadata": {
        "id": "lCQDurilczXT"
      }
    },
    {
      "cell_type": "code",
      "source": [
        "dic_1 = {\"nome\": \"Laura\", \"último nome\": \"Feitoza \", \"idade\": \"18\", \"curso\": \"ciência da computação\", \"endereço\": \"Rua Benjamin Larena\"}\n",
        "print(dic_1)"
      ],
      "metadata": {
        "colab": {
          "base_uri": "https://localhost:8080/"
        },
        "id": "NZA5G8BgcR-g",
        "outputId": "45de18ef-cb96-45d1-eba7-c6e71b77a3ba"
      },
      "execution_count": 25,
      "outputs": [
        {
          "output_type": "stream",
          "name": "stdout",
          "text": [
            "{'nome': 'Laura', 'último nome': 'Feitoza ', 'idade': '18', 'curso': 'ciência da computação', 'endereço': 'Rua Benjamin Larena'}\n"
          ]
        }
      ]
    },
    {
      "cell_type": "markdown",
      "source": [
        "exercicio dicionário letra H"
      ],
      "metadata": {
        "id": "MsbBhwgQgCFX"
      }
    },
    {
      "cell_type": "code",
      "source": [
        "dic_1 = {\"nome\": \"Laura\", \"último nome\": \"Lopes \", \"idade\": \"18\",  \"endereço\": \"Rua Benjamin Larena\"}\n",
        "print(dic_1)"
      ],
      "metadata": {
        "colab": {
          "base_uri": "https://localhost:8080/"
        },
        "id": "XMrtkFG6gLL4",
        "outputId": "c8adfa4a-2e86-42f5-e2e0-85463cda2598"
      },
      "execution_count": 23,
      "outputs": [
        {
          "output_type": "stream",
          "name": "stdout",
          "text": [
            "{'nome': 'Laura', 'último nome': 'Lopes ', 'idade': '18', 'endereço': 'Rua Benjamin Larena'}\n"
          ]
        }
      ]
    }
  ]
}