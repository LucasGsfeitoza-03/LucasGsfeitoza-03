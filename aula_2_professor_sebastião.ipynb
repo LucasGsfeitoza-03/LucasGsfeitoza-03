{
  "nbformat": 4,
  "nbformat_minor": 0,
  "metadata": {
    "colab": {
      "provenance": [],
      "authorship_tag": "ABX9TyNTJ36DL7MFcbPc+YJ/rjN5",
      "include_colab_link": true
    },
    "kernelspec": {
      "name": "python3",
      "display_name": "Python 3"
    },
    "language_info": {
      "name": "python"
    }
  },
  "cells": [
    {
      "cell_type": "markdown",
      "metadata": {
        "id": "view-in-github",
        "colab_type": "text"
      },
      "source": [
        "<a href=\"https://colab.research.google.com/github/LucasGsfeitoza-03/LucasGsfeitoza-03/blob/main/aula_2_professor_sebasti%C3%A3o.ipynb\" target=\"_parent\"><img src=\"https://colab.research.google.com/assets/colab-badge.svg\" alt=\"Open In Colab\"/></a>"
      ]
    },
    {
      "cell_type": "markdown",
      "source": [
        "exemplo 1 usando input entrada de dados"
      ],
      "metadata": {
        "id": "Z_rzV8x4dHoJ"
      }
    },
    {
      "cell_type": "code",
      "source": [
        "nome=input(\"digite seu nome\")\n",
        "print (nome)"
      ],
      "metadata": {
        "colab": {
          "base_uri": "https://localhost:8080/"
        },
        "id": "w4Tr9NCddXFg",
        "outputId": "80d2364c-0d79-4505-d2b7-e06eca12b2cc"
      },
      "execution_count": 8,
      "outputs": [
        {
          "output_type": "stream",
          "name": "stdout",
          "text": [
            "digite seu nomeVitor\n",
            "Vitor\n"
          ]
        }
      ]
    },
    {
      "cell_type": "markdown",
      "source": [
        "exemplo 2 para informar idade"
      ],
      "metadata": {
        "id": "E0fumH_HezeU"
      }
    },
    {
      "cell_type": "code",
      "source": [
        "idade=input(\"por favor digite sua idade amado úsuario\" )\n",
        "print (idade)"
      ],
      "metadata": {
        "colab": {
          "base_uri": "https://localhost:8080/"
        },
        "id": "xO-jVhBje6lE",
        "outputId": "2c601772-0f7c-4cd6-f764-3dc131379d82"
      },
      "execution_count": 15,
      "outputs": [
        {
          "output_type": "stream",
          "name": "stdout",
          "text": [
            "por favor digite sua idade amado úsuario26\n",
            "26\n"
          ]
        }
      ]
    },
    {
      "cell_type": "code",
      "source": [
        "print(\"meu amigo Vitor é foda\")"
      ],
      "metadata": {
        "colab": {
          "base_uri": "https://localhost:8080/"
        },
        "id": "dWRYnopUfiMS",
        "outputId": "a6c39ff3-d43f-4dcd-8f31-32686be5905b"
      },
      "execution_count": 16,
      "outputs": [
        {
          "output_type": "stream",
          "name": "stdout",
          "text": [
            "meu amigo Vitor é foda\n"
          ]
        }
      ]
    },
    {
      "cell_type": "markdown",
      "source": [
        "atividade 1"
      ],
      "metadata": {
        "id": "fiPaiO68gBOs"
      }
    },
    {
      "cell_type": "code",
      "source": [
        " A = \"eu amo programar em\"\n",
        " B = \" python \"\n",
        " C = A + B\n",
        " print(C)\n"
      ],
      "metadata": {
        "colab": {
          "base_uri": "https://localhost:8080/"
        },
        "id": "hF8o7cMTg7AT",
        "outputId": "1c613e27-70fd-437d-822c-0be4b729ecfb"
      },
      "execution_count": 24,
      "outputs": [
        {
          "output_type": "stream",
          "name": "stdout",
          "text": [
            "eu amo programar em python \n"
          ]
        }
      ]
    },
    {
      "cell_type": "markdown",
      "source": [
        "exemplo len"
      ],
      "metadata": {
        "id": "kGCA4FEGity7"
      }
    },
    {
      "cell_type": "code",
      "source": [
        "teste = \"apostila de python\"\n",
        "len(teste)"
      ],
      "metadata": {
        "colab": {
          "base_uri": "https://localhost:8080/"
        },
        "id": "cSurZ3Fhis9c",
        "outputId": "3bffeb05-36a2-4305-9362-68655b67857f"
      },
      "execution_count": 25,
      "outputs": [
        {
          "output_type": "execute_result",
          "data": {
            "text/plain": [
              "18"
            ]
          },
          "metadata": {},
          "execution_count": 25
        }
      ]
    },
    {
      "cell_type": "markdown",
      "source": [
        "capitalize"
      ],
      "metadata": {
        "id": "_rm9MDpAjLrb"
      }
    },
    {
      "cell_type": "code",
      "source": [
        "a= \"python\"\n",
        "a.capitalize()"
      ],
      "metadata": {
        "colab": {
          "base_uri": "https://localhost:8080/",
          "height": 35
        },
        "id": "ZdhPQMM3jV1O",
        "outputId": "c6d99736-a193-449d-90b4-9bddfa5a9484"
      },
      "execution_count": 26,
      "outputs": [
        {
          "output_type": "execute_result",
          "data": {
            "text/plain": [
              "'Python'"
            ],
            "application/vnd.google.colaboratory.intrinsic+json": {
              "type": "string"
            }
          },
          "metadata": {},
          "execution_count": 26
        }
      ]
    },
    {
      "cell_type": "markdown",
      "source": [
        "count"
      ],
      "metadata": {
        "id": "Wad9On5wjbxj"
      }
    },
    {
      "cell_type": "code",
      "source": [
        "b = \"linguagem Python\"\n",
        "b.count(\"n\")"
      ],
      "metadata": {
        "colab": {
          "base_uri": "https://localhost:8080/"
        },
        "id": "axpup81yjgjd",
        "outputId": "706b0195-4269-4b1f-c840-dcff7665d42e"
      },
      "execution_count": 27,
      "outputs": [
        {
          "output_type": "execute_result",
          "data": {
            "text/plain": [
              "2"
            ]
          },
          "metadata": {},
          "execution_count": 27
        }
      ]
    },
    {
      "cell_type": "markdown",
      "source": [
        "startswitch"
      ],
      "metadata": {
        "id": "5f2_bPX4jtIP"
      }
    },
    {
      "cell_type": "code",
      "source": [
        "c=\"python\"\n",
        "c.startswith(\"py\")"
      ],
      "metadata": {
        "colab": {
          "base_uri": "https://localhost:8080/"
        },
        "id": "42sm5OQKjwvH",
        "outputId": "85b04fb3-1ade-4e31-d7f2-2546bc1e30cf"
      },
      "execution_count": 29,
      "outputs": [
        {
          "output_type": "execute_result",
          "data": {
            "text/plain": [
              "True"
            ]
          },
          "metadata": {},
          "execution_count": 29
        }
      ]
    },
    {
      "cell_type": "markdown",
      "source": [
        "usuário inseri dois numero e pede o resultado da divisão"
      ],
      "metadata": {
        "id": "wgSVrZcEmJBg"
      }
    },
    {
      "cell_type": "code",
      "source": [
        "print(\"usuário insira dois números:\")\n",
        "num1=int(input(\"digite o primeiro número\"))\n",
        "num2=int(input(\"digite o segundo número\"))\n",
        "resultado_divisão = num1/num2\n",
        "print(resultado_divisão)"
      ],
      "metadata": {
        "colab": {
          "base_uri": "https://localhost:8080/"
        },
        "id": "nWGHBf9Ymgjc",
        "outputId": "9619ad62-7463-4295-b3ef-12114b392f02"
      },
      "execution_count": 36,
      "outputs": [
        {
          "output_type": "stream",
          "name": "stdout",
          "text": [
            "usuário insira dois números:\n",
            "digite o primeiro número12\n",
            "digite o segundo número22\n",
            "0.5454545454545454\n"
          ]
        }
      ]
    },
    {
      "cell_type": "markdown",
      "source": [
        "código da base da altura de um retangulo"
      ],
      "metadata": {
        "id": "RTiScbzGnucO"
      }
    },
    {
      "cell_type": "code",
      "source": [
        "largura_rentâgulo=float(input(\"digite a largura do retangulo\"))\n",
        "altura_rentângulo=float(input(\"digite a altura do retangulo\"))\n",
        "area=largura_rentâgulo*altura_rentângulo\n",
        "print(area)"
      ],
      "metadata": {
        "colab": {
          "base_uri": "https://localhost:8080/"
        },
        "id": "LgQIB6htn5bs",
        "outputId": "b9d8d15a-5381-4b77-bdec-c4df5889ea49"
      },
      "execution_count": 37,
      "outputs": [
        {
          "output_type": "stream",
          "name": "stdout",
          "text": [
            "digite a largura do retangulo12\n",
            "digite a altura do retangulo11\n",
            "132.0\n"
          ]
        }
      ]
    },
    {
      "cell_type": "markdown",
      "source": [
        "soma entre dois números"
      ],
      "metadata": {
        "id": "8DO-xiqLodny"
      }
    },
    {
      "cell_type": "code",
      "source": [
        "num1 = 31\n",
        "num2 = 3\n",
        "soma = num1 + num2\n",
        "print(soma)"
      ],
      "metadata": {
        "colab": {
          "base_uri": "https://localhost:8080/"
        },
        "id": "2ZNjg20Poa4y",
        "outputId": "526414a1-7ba1-4a30-901c-4b74b380a5b6"
      },
      "execution_count": 40,
      "outputs": [
        {
          "output_type": "stream",
          "name": "stdout",
          "text": [
            "34\n"
          ]
        }
      ]
    },
    {
      "cell_type": "markdown",
      "source": [
        "exemplo dicionário"
      ],
      "metadata": {
        "id": "Z5s03-SVpF1U"
      }
    },
    {
      "cell_type": "code",
      "source": [
        "dic_1 = {\"nome\":\"LUCAS GABRIEL\",\"sobrinome\":\"DA SILVA FEITOZA\"}\n",
        "dic_2 = {\"vitor\":1, \"Maria\":2, \"Clara\":3, \"Matheus\":4}\n",
        "print(dic_1[\"nome\"])\n",
        "print(dic_2 [\"vitor\"])\n",
        "print(dic_1.keys()) # Call the keys() method on dic_1\n",
        "print(dic_1.values()) # Call the values() method on dic_1\n",
        "print(dic_1.items()) # Call the items() method on dic_1\n",
        "print(dic_2.items()) # Call the items() method on dic_2\n",
        "print(dic_2.keys()) # Call the keys() method on dic_2\n",
        "print(dic_2.values()) # Call the values() method on dic_2"
      ],
      "metadata": {
        "colab": {
          "base_uri": "https://localhost:8080/"
        },
        "id": "33fYjOn_pJaE",
        "outputId": "98dc2205-dedf-4355-b203-e4706355929c"
      },
      "execution_count": 49,
      "outputs": [
        {
          "output_type": "stream",
          "name": "stdout",
          "text": [
            "LUCAS GABRIEL\n",
            "1\n",
            "dict_keys(['nome', 'sobrinome'])\n",
            "dict_values(['LUCAS GABRIEL', 'DA SILVA FEITOZA'])\n",
            "dict_items([('nome', 'LUCAS GABRIEL'), ('sobrinome', 'DA SILVA FEITOZA')])\n",
            "dict_items([('vitor', 1), ('Maria', 2), ('Clara', 3), ('Matheus', 4)])\n",
            "dict_keys(['vitor', 'Maria', 'Clara', 'Matheus'])\n",
            "dict_values([1, 2, 3, 4])\n"
          ]
        }
      ]
    }
  ]
}