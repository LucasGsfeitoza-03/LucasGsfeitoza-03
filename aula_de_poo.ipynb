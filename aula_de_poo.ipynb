{
  "nbformat": 4,
  "nbformat_minor": 0,
  "metadata": {
    "colab": {
      "provenance": [],
      "authorship_tag": "ABX9TyPvRFhk5f92X4IZEdFViZp7",
      "include_colab_link": true
    },
    "kernelspec": {
      "name": "python3",
      "display_name": "Python 3"
    },
    "language_info": {
      "name": "python"
    }
  },
  "cells": [
    {
      "cell_type": "markdown",
      "metadata": {
        "id": "view-in-github",
        "colab_type": "text"
      },
      "source": [
        "<a href=\"https://colab.research.google.com/github/LucasGsfeitoza-03/LucasGsfeitoza-03/blob/main/aula_de_poo.ipynb\" target=\"_parent\"><img src=\"https://colab.research.google.com/assets/colab-badge.svg\" alt=\"Open In Colab\"/></a>"
      ]
    },
    {
      "cell_type": "markdown",
      "source": [
        "exemplo conta bancaria"
      ],
      "metadata": {
        "id": "8lLdiaar6mTf"
      }
    },
    {
      "cell_type": "code",
      "source": [
        "class ContaBancaria:\n",
        "    def __init__(self, numero_conta, titular, saldo=0): # definidoa função _init_\n",
        "        self.numero_conta = numero_conta\n",
        "        self.titular = titular\n",
        "        self.saldo = saldo\n",
        "\n",
        "    def depositar(self, valor):\n",
        "        if valor > 0:\n",
        "            self.saldo += valor\n",
        "            print(f\"Depósito de R${valor:.2f} realizado com sucesso.\")\n",
        "        else:\n",
        "            print(\"Valor inválido para depósito.\")\n",
        "\n",
        "    def sacar(self, valor):\n",
        "        if valor > 0 and valor <= self.saldo:\n",
        "            self.saldo -= valor\n",
        "            print(f\"Saque de R${valor:.2f} realizado com sucesso.\")\n",
        "        else:\n",
        "            print(\"Saldo insuficiente ou valor inválido para saque.\")\n",
        "\n",
        "    def transferir(self, valor, outra_conta):\n",
        "        if valor > 0 and valor <= self.saldo:\n",
        "            self.saldo -= valor\n",
        "            outra_conta.saldo += valor\n",
        "            print(f\"Transferência de R${valor:.2f} realizada com sucesso para a conta {outra_conta.titular}.\")\n",
        "        else:\n",
        "            print(\"Saldo insuficiente ou valor inválido para transferência.\")\n",
        "\n",
        "# Criando instâncias das contas\n",
        "conta1 = ContaBancaria(246, \"Mario\")\n",
        "conta2 = ContaBancaria(369, \"Luigi\")\n",
        "\n",
        "# Simulando operações\n",
        "conta1.depositar(100)\n",
        "conta1.sacar(50)\n",
        "conta1.transferir(20, conta2)\n",
        "\n",
        "print(f\"Saldo da conta de {conta1.titular}: R${conta1.saldo:.2f}\")\n",
        "print(f\"Saldo da conta de {conta2.titular}: R${conta2.saldo:.2f}\")"
      ],
      "metadata": {
        "colab": {
          "base_uri": "https://localhost:8080/"
        },
        "id": "05g6BrSf3XEd",
        "outputId": "a46799d9-15b5-43b0-d600-61d2c077132e"
      },
      "execution_count": null,
      "outputs": [
        {
          "output_type": "stream",
          "name": "stdout",
          "text": [
            "Depósito de R$100.00 realizado com sucesso.\n",
            "Saque de R$50.00 realizado com sucesso.\n",
            "Transferência de R$20.00 realizada com sucesso para a conta Luigi.\n",
            "Saldo da conta de Mario: R$30.00\n",
            "Saldo da conta de Luigi: R$20.00\n"
          ]
        }
      ]
    },
    {
      "cell_type": "markdown",
      "source": [
        "ex biblioteca\n"
      ],
      "metadata": {
        "id": "OffeuEaE4inJ"
      }
    },
    {
      "cell_type": "code",
      "source": [
        "class Livro:\n",
        "    def __init__(self, titulo, autor):\n",
        "        self.titulo = titulo\n",
        "        self.autor = autor\n",
        "        self.disponivel = True\n",
        "\n",
        "class Usuario:\n",
        "    def __init__(self, nome):\n",
        "        self.nome = nome\n",
        "        self.livros_emprestados = []\n",
        "\n",
        "    def emprestar_livro(self, livro):\n",
        "        if livro.disponivel:\n",
        "            self.livros_emprestados.append(livro)\n",
        "            livro.disponivel = False\n",
        "            print(f\"Livro '{livro.titulo}' emprestado para {self.nome}.\")\n",
        "        else:\n",
        "            print(f\"Livro '{livro.titulo}' não está disponível.\")\n",
        "\n",
        "    def devolver_livro(self, livro):\n",
        "        if livro in self.livros_emprestados:\n",
        "            self.livros_emprestados.remove(livro)\n",
        "            livro.disponivel = True\n",
        "            print(f\"Livro '{livro.titulo}' devolvido por {self.nome}.\")\n",
        "        else:\n",
        "            print(f\"O usuário não possui este livro.\")\n",
        "\n",
        "# Criando instâncias\n",
        "usuario1 = Usuario(\"Roberto\")\n",
        "livro1 = Livro(\"Harry Potter e a pedra filosofal\", \"JK Rolling\")\n",
        "livro2 = Livro(\"Moby Dick\", \"Herman Melville\")\n",
        "livro3 = Livro(\"A divina cómedia\", \"Dante ALighieri\")\n",
        "\n",
        "# Simulando empréstimo e devolução\n",
        "usuario1.emprestar_livro(livro1)\n",
        "usuario1.devolver_livro(livro1)\n",
        "usuario1.emprestar_livro(livro2)\n",
        "usuario1.devolver_livro(livro2)\n",
        "usuario1.emprestar_livro(livro3)\n",
        "usuario1.devolver_livro(livro3)"
      ],
      "metadata": {
        "id": "nJ3HGXyf4iRV",
        "colab": {
          "base_uri": "https://localhost:8080/"
        },
        "outputId": "37160836-8235-4fe1-c029-ef6245d03f57"
      },
      "execution_count": 19,
      "outputs": [
        {
          "output_type": "stream",
          "name": "stdout",
          "text": [
            "Livro 'Harry Potter e a pedra filosofal' emprestado para Roberto.\n",
            "Livro 'Harry Potter e a pedra filosofal' devolvido por Roberto.\n",
            "Livro 'Moby Dick' emprestado para Roberto.\n",
            "Livro 'Moby Dick' devolvido por Roberto.\n",
            "Livro 'A divina cómedia' emprestado para Roberto.\n",
            "Livro 'A divina cómedia' devolvido por Roberto.\n"
          ]
        }
      ]
    },
    {
      "cell_type": "markdown",
      "source": [
        "ex sistema de notas"
      ],
      "metadata": {
        "id": "OV_nXpBVA4Xf"
      }
    },
    {
      "cell_type": "code",
      "source": [
        "class Estudante:\n",
        "    \"\"\"Representa um estudante com nome e notas.\"\"\"\n",
        "\n",
        "    def __init__(self, nome):\n",
        "        \"\"\"Inicializa um novo estudante.\"\"\"\n",
        "        self.nome = nome\n",
        "        self.notas = []  # Cria uma lista vazia para armazenar as notas\n",
        "\n",
        "    def adicionar_nota(self, nota):\n",
        "        \"\"\"Adiciona uma nova nota ao histórico do estudante.\n",
        "\n",
        "        O método append adiciona a nova nota ao final da lista de notas.\n",
        "        \"\"\"\n",
        "        self.notas.append(nota)\n",
        "\n",
        "    def calcular_media(self):\n",
        "        \"\"\"Calcula a média das notas do estudante.\"\"\"\n",
        "        if not self.notas:\n",
        "            return 0\n",
        "        return sum(self.notas) / len(self.notas)\n",
        "\n",
        "class Turma:\n",
        "    \"\"\"Representa uma turma com uma lista de estudantes.\"\"\"\n",
        "\n",
        "    def __init__(self):\n",
        "        \"\"\"Inicializa uma nova turma.\"\"\"\n",
        "        self.estudantes = []  # Cria uma lista vazia para armazenar os estudantes\n",
        "\n",
        "    def adicionar_estudante(self, estudante):\n",
        "        \"\"\"Adiciona um estudante à turma.\n",
        "\n",
        "        O método append adiciona o novo estudante ao final da lista de estudantes.\n",
        "        \"\"\"\n",
        "        self.estudantes.append(estudante)\n",
        "\n",
        "    def calcular_media_turma(self):\n",
        "        \"\"\"Calcula a média da turma.\"\"\"\n",
        "        if not self.estudantes:\n",
        "            return 0\n",
        "        total_notas = 0\n",
        "        total_alunos = 0\n",
        "        for estudante in self.estudantes:\n",
        "            total_notas += sum(estudante.notas)  # Soma as notas de cada estudante\n",
        "            total_alunos += len(estudante.notas)  # Conta o número de notas de cada estudante\n",
        "        return total_notas / total_alunos\n",
        "\n",
        "# Criando alunos e uma turma\n",
        "aluno1 = Estudante(\"Eduardo\")\n",
        "aluno1.adicionar_nota(6.5)\n",
        "aluno1.adicionar_nota(7.0)\n",
        "aluno2 = Estudante(\"Monica\")\n",
        "aluno2.adicionar_nota(8.3)\n",
        "aluno2.adicionar_nota(9.0)\n",
        "\n",
        "turma = Turma()\n",
        "turma.adicionar_estudante(aluno1)\n",
        "turma.adicionar_estudante(aluno2)\n",
        "\n",
        "# Calculando e imprimindo as médias com uma casa decimal\n",
        "print(f\"A média do Eduardo é: {aluno1.calcular_media():.1f}\")\n",
        "print(f\"A média da Monica é: {aluno2.calcular_media():.1f}\")\n",
        "print(f\"A média da turma é: {turma.calcular_media_turma():.1f}\")"
      ],
      "metadata": {
        "colab": {
          "base_uri": "https://localhost:8080/"
        },
        "id": "z6LZt5YGBHkp",
        "outputId": "7ecae857-5f00-410e-9c32-069789743df9"
      },
      "execution_count": 23,
      "outputs": [
        {
          "output_type": "stream",
          "name": "stdout",
          "text": [
            "A média do Eduardo é: 6.8\n",
            "A média da Monica é: 8.7\n",
            "A média da turma é: 7.7\n"
          ]
        }
      ]
    }
  ]
}