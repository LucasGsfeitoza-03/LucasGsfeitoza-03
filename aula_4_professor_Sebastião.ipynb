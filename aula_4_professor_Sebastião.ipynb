{
  "nbformat": 4,
  "nbformat_minor": 0,
  "metadata": {
    "colab": {
      "provenance": [],
      "authorship_tag": "ABX9TyNbEb5u8guBvNcQ3a3Hkheh",
      "include_colab_link": true
    },
    "kernelspec": {
      "name": "python3",
      "display_name": "Python 3"
    },
    "language_info": {
      "name": "python"
    }
  },
  "cells": [
    {
      "cell_type": "markdown",
      "metadata": {
        "id": "view-in-github",
        "colab_type": "text"
      },
      "source": [
        "<a href=\"https://colab.research.google.com/github/LucasGsfeitoza-03/LucasGsfeitoza-03/blob/main/aula_4_professor_Sebasti%C3%A3o.ipynb\" target=\"_parent\"><img src=\"https://colab.research.google.com/assets/colab-badge.svg\" alt=\"Open In Colab\"/></a>"
      ]
    },
    {
      "cell_type": "markdown",
      "source": [
        "\n",
        "Exemplo sobre estrutura while\n",
        "\n"
      ],
      "metadata": {
        "id": "u_i5Q3OkX-ZQ"
      }
    },
    {
      "cell_type": "code",
      "execution_count": 7,
      "metadata": {
        "colab": {
          "base_uri": "https://localhost:8080/"
        },
        "id": "xHxSHmj8XN8t",
        "outputId": "b8412cab-b2dc-45ea-b258-32e9332975b6"
      },
      "outputs": [
        {
          "output_type": "stream",
          "name": "stdout",
          "text": [
            "0\n",
            "1\n",
            "2\n",
            "3\n",
            "4\n"
          ]
        }
      ],
      "source": [
        "contador= 0\n",
        "while contador <5:\n",
        "  print(contador)\n",
        "  contador=contador+1"
      ]
    },
    {
      "cell_type": "markdown",
      "source": [
        "exemplo sobre estrutura while - else\n",
        "\n",
        "\n"
      ],
      "metadata": {
        "id": "tHCCJLGra-Wv"
      }
    },
    {
      "cell_type": "code",
      "source": [
        "contador = 0\n",
        "while (contador <5):\n",
        "  print(contador)\n",
        "  contador=contador +1\n",
        "else:\n",
        "  print(\"o loop while foi encerrado com sucesso!!\")"
      ],
      "metadata": {
        "colab": {
          "base_uri": "https://localhost:8080/"
        },
        "id": "JVmBOqavbwLu",
        "outputId": "33deec92-b570-4001-e700-a631bb22f889"
      },
      "execution_count": 13,
      "outputs": [
        {
          "output_type": "stream",
          "name": "stdout",
          "text": [
            "0\n",
            "1\n",
            "2\n",
            "3\n",
            "4\n",
            "o loop while foi encerrado com sucesso!!\n"
          ]
        }
      ]
    },
    {
      "cell_type": "markdown",
      "source": [
        "estrutura while - else"
      ],
      "metadata": {
        "id": "2BuLpyx4c0NW"
      }
    },
    {
      "cell_type": "code",
      "source": [
        "\n",
        "x=0\n",
        "while x < 10:\n",
        "  print(x)\n",
        "  x += 1\n",
        "if x == 10:\n",
        "  print(\"o loop while foi encerrado com sucesso!!\")"
      ],
      "metadata": {
        "id": "PIGMVK0XdbXd"
      },
      "execution_count": null,
      "outputs": []
    },
    {
      "cell_type": "markdown",
      "source": [
        "exercício para o usuario tentar acessar a senha misteriosa"
      ],
      "metadata": {
        "id": "TCpVk9dBe5E4"
      }
    },
    {
      "cell_type": "code",
      "source": [
        "senha = 3312004\n",
        "S = int(input(\"digite a senha: \"))\n",
        "while S != senha:\n",
        "  print(\"senha incorreta\")\n",
        "  S = int(input(\"digite a senha: \"))\n",
        "else:\n",
        "  print(\"senha correta\")"
      ],
      "metadata": {
        "colab": {
          "base_uri": "https://localhost:8080/"
        },
        "id": "YfJQWrA0fFGs",
        "outputId": "397adc25-1960-4716-a4ef-c18a0f35e73f"
      },
      "execution_count": 33,
      "outputs": [
        {
          "output_type": "stream",
          "name": "stdout",
          "text": [
            "digite a senha: 12456\n",
            "senha incorreta\n",
            "digite a senha: 12\n",
            "senha incorreta\n",
            "digite a senha: 112211\n",
            "senha incorreta\n",
            "digite a senha: 3312004\n",
            "senha correta\n"
          ]
        }
      ]
    },
    {
      "cell_type": "markdown",
      "source": [
        "caixa registradora"
      ],
      "metadata": {
        "id": "n2a0PTGAig7_"
      }
    },
    {
      "cell_type": "code",
      "source": [
        "caixa_registradora = 0.0  # inicializa caixa_registradora\n",
        "\n",
        "while True:\n",
        "    valor_produto = input(\"Digite o valor do produto (ou zero/um número negativo para finalizar): \").replace(',', '.')\n",
        "    valor_produto = float(valor_produto)  # converte o valor do produto para float\n",
        "    if valor_produto <= 0:\n",
        "        break  # sai do loop se o valor do produto for zero ou negativo\n",
        "    quantidade_produto = input(\"Digite a quantidade do produto: \").replace(',', '.')\n",
        "    quantidade_produto = float(quantidade_produto)  # converte a quantidade do produto para float\n",
        "    total_compra = valor_produto * quantidade_produto  # calcula o total para o item atual\n",
        "    caixa_registradora += total_compra  # acumula o total na caixa registradora\n",
        "    print(f\"Total do item: {total_compra:.2f}\")\n",
        "\n",
        "print(f\"Total da compra: {caixa_registradora:.2f}\")\n"
      ],
      "metadata": {
        "colab": {
          "base_uri": "https://localhost:8080/"
        },
        "id": "Ce4YukgWiqzh",
        "outputId": "300e7481-98be-4c04-eb6b-171e701d3eff"
      },
      "execution_count": 47,
      "outputs": [
        {
          "output_type": "stream",
          "name": "stdout",
          "text": [
            "Digite o valor do produto (ou zero/um número negativo para finalizar): 0\n",
            "Total da compra: 0.00\n"
          ]
        }
      ]
    },
    {
      "cell_type": "markdown",
      "source": [
        "conversão de base para binário ou hexadecimal\n",
        "\n"
      ],
      "metadata": {
        "id": "dZlG-kxGoOEq"
      }
    },
    {
      "cell_type": "code",
      "source": [
        "while True:\n",
        "    try:\n",
        "        número = int(input(\"Digite um número inteiro (ou zero/um número negativo para sair): \").strip())\n",
        "        if número <= 0:\n",
        "            print(\"Saindo do programa.\")\n",
        "            break  # sai do loop e finaliza o programa\n",
        "        escolha = input(\"Deseja converter para binário ou hexadecimal? (b/h): \").strip().lower()\n",
        "        if escolha == \"b\":\n",
        "            resultado = bin(número)[2:]  # remove o prefixo '0b'\n",
        "            print(f\"Binário: {resultado}\")\n",
        "        elif escolha == \"h\":\n",
        "            resultado = hex(número)  # mantém o prefixo '0x'\n",
        "            print(f\"Hexadecimal: {resultado}\")\n",
        "        else:\n",
        "            print(\"Opção inválida\")\n",
        "    except ValueError:\n",
        "        print(\"Por favor, digite um número inteiro válido.\")\n"
      ],
      "metadata": {
        "colab": {
          "base_uri": "https://localhost:8080/"
        },
        "id": "C6hcKRBiod24",
        "outputId": "04ceb0e0-f678-4049-bf87-fe5d7cc37cc3"
      },
      "execution_count": 56,
      "outputs": [
        {
          "output_type": "stream",
          "name": "stdout",
          "text": [
            "Digite um número inteiro (ou zero/um número negativo para sair): 12\n",
            "Deseja converter para binário ou hexadecimal? (b/h): h\n",
            "Hexadecimal: 0xc\n",
            "Digite um número inteiro (ou zero/um número negativo para sair): 120\n",
            "Deseja converter para binário ou hexadecimal? (b/h): h\n",
            "Hexadecimal: 0x78\n",
            "Digite um número inteiro (ou zero/um número negativo para sair): 0\n",
            "Saindo do programa.\n"
          ]
        }
      ]
    },
    {
      "cell_type": "markdown",
      "source": [
        "exercicio sobre palíndromo"
      ],
      "metadata": {
        "id": "KbydA_S1w8xG"
      }
    },
    {
      "cell_type": "code",
      "source": [
        "palavra = input(\"Digite uma palavra: \").strip().lower() .upper() # remove espaços em branco e o lower - nos dá a possibilidade de usar letra minusculas e upper para letras maiusculas\n",
        "palavra_invertida = palavra[::-1]  # inverte a palavra\n",
        "\n",
        "if palavra == palavra_invertida:  # confere a palavra invertida vendo se a palavra é igual a palavra invertida\n",
        "    print(\"A palavra é um palíndromo.\")\n",
        "else:\n",
        "    print(\"A palavra não é um palíndromo.\")"
      ],
      "metadata": {
        "colab": {
          "base_uri": "https://localhost:8080/"
        },
        "id": "aQLLz2zsxNeW",
        "outputId": "0cbac7b7-c908-4206-de64-b5f51350bd7e"
      },
      "execution_count": 62,
      "outputs": [
        {
          "output_type": "stream",
          "name": "stdout",
          "text": [
            "Digite uma palavra: ele\n",
            "A palavra é um palíndromo.\n"
          ]
        }
      ]
    }
  ]
}